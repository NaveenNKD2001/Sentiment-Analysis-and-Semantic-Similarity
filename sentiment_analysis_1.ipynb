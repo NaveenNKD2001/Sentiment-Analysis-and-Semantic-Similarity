{
 "cells": [
  {
   "cell_type": "code",
   "execution_count": 1,
   "id": "6eb9283d",
   "metadata": {},
   "outputs": [
    {
     "name": "stdout",
     "output_type": "stream",
     "text": [
      "WARNING:tensorflow:From C:\\Users\\navee\\anaconda3\\Lib\\site-packages\\keras\\src\\losses.py:2976: The name tf.losses.sparse_softmax_cross_entropy is deprecated. Please use tf.compat.v1.losses.sparse_softmax_cross_entropy instead.\n",
      "\n",
      "WARNING:tensorflow:From C:\\Users\\navee\\anaconda3\\Lib\\site-packages\\keras\\src\\backend.py:873: The name tf.get_default_graph is deprecated. Please use tf.compat.v1.get_default_graph instead.\n",
      "\n"
     ]
    },
    {
     "name": "stderr",
     "output_type": "stream",
     "text": [
      "Some weights of the PyTorch model were not used when initializing the TF 2.0 model TFBertModel: ['cls.predictions.transform.dense.weight', 'cls.seq_relationship.weight', 'cls.seq_relationship.bias', 'cls.predictions.transform.LayerNorm.weight', 'cls.predictions.bias', 'cls.predictions.transform.LayerNorm.bias', 'cls.predictions.transform.dense.bias']\n",
      "- This IS expected if you are initializing TFBertModel from a PyTorch model trained on another task or with another architecture (e.g. initializing a TFBertForSequenceClassification model from a BertForPreTraining model).\n",
      "- This IS NOT expected if you are initializing TFBertModel from a PyTorch model that you expect to be exactly identical (e.g. initializing a TFBertForSequenceClassification model from a BertForSequenceClassification model).\n",
      "All the weights of TFBertModel were initialized from the PyTorch model.\n",
      "If your task is similar to the task the model of the checkpoint was trained on, you can already use TFBertModel for predictions without further training.\n"
     ]
    }
   ],
   "source": [
    "from transformers import BertTokenizer, TFBertModel\n",
    "tokenizer=BertTokenizer.from_pretrained('bert-base-uncased')\n",
    "model=TFBertModel.from_pretrained('bert-base-uncased')"
   ]
  },
  {
   "cell_type": "code",
   "execution_count": 2,
   "id": "e6da67c7",
   "metadata": {},
   "outputs": [],
   "source": [
    "import pandas as pd\n",
    "import numpy as np"
   ]
  },
  {
   "cell_type": "code",
   "execution_count": 3,
   "id": "5346cb38",
   "metadata": {},
   "outputs": [],
   "source": [
    "df=pd.read_csv('imdb_cleaned.csv')"
   ]
  },
  {
   "cell_type": "code",
   "execution_count": 4,
   "id": "7b693b26",
   "metadata": {},
   "outputs": [
    {
     "data": {
      "text/html": [
       "<div>\n",
       "<style scoped>\n",
       "    .dataframe tbody tr th:only-of-type {\n",
       "        vertical-align: middle;\n",
       "    }\n",
       "\n",
       "    .dataframe tbody tr th {\n",
       "        vertical-align: top;\n",
       "    }\n",
       "\n",
       "    .dataframe thead th {\n",
       "        text-align: right;\n",
       "    }\n",
       "</style>\n",
       "<table border=\"1\" class=\"dataframe\">\n",
       "  <thead>\n",
       "    <tr style=\"text-align: right;\">\n",
       "      <th></th>\n",
       "      <th>Unnamed: 0</th>\n",
       "      <th>review_text</th>\n",
       "      <th>sentiment_score</th>\n",
       "      <th>review_stopwords_noise_remove</th>\n",
       "    </tr>\n",
       "  </thead>\n",
       "  <tbody>\n",
       "    <tr>\n",
       "      <th>0</th>\n",
       "      <td>0</td>\n",
       "      <td>one of the other reviewers has mentioned that ...</td>\n",
       "      <td>positive</td>\n",
       "      <td>one reviewer mention watch 1 episode hook righ...</td>\n",
       "    </tr>\n",
       "    <tr>\n",
       "      <th>1</th>\n",
       "      <td>1</td>\n",
       "      <td>a wonderful little production. &lt;br /&gt;&lt;br /&gt;the...</td>\n",
       "      <td>positive</td>\n",
       "      <td>wonderful little production film technique una...</td>\n",
       "    </tr>\n",
       "    <tr>\n",
       "      <th>2</th>\n",
       "      <td>2</td>\n",
       "      <td>i thought this was a wonderful way to spend ti...</td>\n",
       "      <td>positive</td>\n",
       "      <td>think wonderful way spend time hot summer week...</td>\n",
       "    </tr>\n",
       "    <tr>\n",
       "      <th>3</th>\n",
       "      <td>3</td>\n",
       "      <td>basically there's a family where a little boy ...</td>\n",
       "      <td>negative</td>\n",
       "      <td>basically there family little boy jake think t...</td>\n",
       "    </tr>\n",
       "    <tr>\n",
       "      <th>4</th>\n",
       "      <td>4</td>\n",
       "      <td>petter mattei's \"love in the time of money\" is...</td>\n",
       "      <td>positive</td>\n",
       "      <td>petter love time money visually stunning film ...</td>\n",
       "    </tr>\n",
       "  </tbody>\n",
       "</table>\n",
       "</div>"
      ],
      "text/plain": [
       "   Unnamed: 0                                        review_text  \\\n",
       "0           0  one of the other reviewers has mentioned that ...   \n",
       "1           1  a wonderful little production. <br /><br />the...   \n",
       "2           2  i thought this was a wonderful way to spend ti...   \n",
       "3           3  basically there's a family where a little boy ...   \n",
       "4           4  petter mattei's \"love in the time of money\" is...   \n",
       "\n",
       "  sentiment_score                      review_stopwords_noise_remove  \n",
       "0        positive  one reviewer mention watch 1 episode hook righ...  \n",
       "1        positive  wonderful little production film technique una...  \n",
       "2        positive  think wonderful way spend time hot summer week...  \n",
       "3        negative  basically there family little boy jake think t...  \n",
       "4        positive  petter love time money visually stunning film ...  "
      ]
     },
     "execution_count": 4,
     "metadata": {},
     "output_type": "execute_result"
    }
   ],
   "source": [
    "df.head()"
   ]
  },
  {
   "cell_type": "code",
   "execution_count": 5,
   "id": "f60bae83",
   "metadata": {},
   "outputs": [],
   "source": [
    "batch_size = 100 \n",
    "all_embeddings = []\n",
    "all_labels = []\n",
    "\n",
    "for i in range(0, len(df['review_stopwords_noise_remove']), batch_size):\n",
    "    batch_data = tokenizer.batch_encode_plus(\n",
    "        df['review_stopwords_noise_remove'][i:i + batch_size],\n",
    "        add_special_tokens=True,\n",
    "        max_length=64,\n",
    "        padding='max_length',\n",
    "        truncation=True,\n",
    "        return_tensors='tf'\n",
    "    )\n",
    "    output = model(**batch_data)\n",
    "    po = output.pooler_output\n",
    "\n",
    "    all_embeddings.append(po)\n",
    "    all_labels.append(df['sentiment_score'][i:i + batch_size])"
   ]
  },
  {
   "cell_type": "code",
   "execution_count": 6,
   "id": "500aa2f7",
   "metadata": {},
   "outputs": [],
   "source": [
    "import tensorflow as tf\n",
    "from sklearn.model_selection import train_test_split\n",
    "from sklearn.metrics import accuracy_score"
   ]
  },
  {
   "cell_type": "code",
   "execution_count": 7,
   "id": "96439fa4",
   "metadata": {},
   "outputs": [],
   "source": [
    "del df"
   ]
  },
  {
   "cell_type": "code",
   "execution_count": 8,
   "id": "b3c943dd",
   "metadata": {},
   "outputs": [],
   "source": [
    "x=tf.concat(all_embeddings,axis=0).numpy()\n",
    "y=tf.concat(all_labels,axis=0).numpy()\n",
    "y=np.where(y=='positive',1,0)"
   ]
  },
  {
   "cell_type": "code",
   "execution_count": 9,
   "id": "85e94e1e",
   "metadata": {},
   "outputs": [
    {
     "data": {
      "text/plain": [
       "(50000, 768)"
      ]
     },
     "execution_count": 9,
     "metadata": {},
     "output_type": "execute_result"
    }
   ],
   "source": [
    "x.shape"
   ]
  },
  {
   "cell_type": "code",
   "execution_count": 10,
   "id": "dc7e8a90",
   "metadata": {},
   "outputs": [
    {
     "data": {
      "text/plain": [
       "(50000,)"
      ]
     },
     "execution_count": 10,
     "metadata": {},
     "output_type": "execute_result"
    }
   ],
   "source": [
    "y.shape"
   ]
  },
  {
   "cell_type": "code",
   "execution_count": 11,
   "id": "26f07afe",
   "metadata": {},
   "outputs": [],
   "source": [
    "#y = y.reshape(-1, 1)"
   ]
  },
  {
   "cell_type": "code",
   "execution_count": 12,
   "id": "8926708b",
   "metadata": {},
   "outputs": [],
   "source": [
    "del all_embeddings\n",
    "del all_labels"
   ]
  },
  {
   "cell_type": "code",
   "execution_count": 13,
   "id": "e348a1d4",
   "metadata": {},
   "outputs": [],
   "source": [
    "x_tr,x_te,y_tr,y_te=train_test_split(x,y,test_size=0.3,random_state=0)"
   ]
  },
  {
   "cell_type": "code",
   "execution_count": 14,
   "id": "7336f419",
   "metadata": {},
   "outputs": [],
   "source": [
    "del x,y"
   ]
  },
  {
   "cell_type": "code",
   "execution_count": 15,
   "id": "40a038a6",
   "metadata": {},
   "outputs": [
    {
     "data": {
      "text/plain": [
       "(35000, 768)"
      ]
     },
     "execution_count": 15,
     "metadata": {},
     "output_type": "execute_result"
    }
   ],
   "source": [
    "x_tr.shape"
   ]
  },
  {
   "cell_type": "code",
   "execution_count": 16,
   "id": "e9ac2b64",
   "metadata": {},
   "outputs": [
    {
     "data": {
      "text/plain": [
       "(15000, 768)"
      ]
     },
     "execution_count": 16,
     "metadata": {},
     "output_type": "execute_result"
    }
   ],
   "source": [
    "x_te.shape"
   ]
  },
  {
   "cell_type": "code",
   "execution_count": 17,
   "id": "e2184cbd",
   "metadata": {},
   "outputs": [
    {
     "data": {
      "text/plain": [
       "(35000,)"
      ]
     },
     "execution_count": 17,
     "metadata": {},
     "output_type": "execute_result"
    }
   ],
   "source": [
    "y_tr.shape"
   ]
  },
  {
   "cell_type": "code",
   "execution_count": 18,
   "id": "66f5a550",
   "metadata": {},
   "outputs": [
    {
     "data": {
      "text/plain": [
       "(15000,)"
      ]
     },
     "execution_count": 18,
     "metadata": {},
     "output_type": "execute_result"
    }
   ],
   "source": [
    "y_te.shape"
   ]
  },
  {
   "cell_type": "code",
   "execution_count": 20,
   "id": "256a5206",
   "metadata": {},
   "outputs": [
    {
     "name": "stdout",
     "output_type": "stream",
     "text": [
      "WARNING:tensorflow:From C:\\Users\\navee\\anaconda3\\Lib\\site-packages\\keras\\src\\optimizers\\__init__.py:309: The name tf.train.Optimizer is deprecated. Please use tf.compat.v1.train.Optimizer instead.\n",
      "\n",
      "Epoch 1/5\n",
      "WARNING:tensorflow:From C:\\Users\\navee\\anaconda3\\Lib\\site-packages\\keras\\src\\utils\\tf_utils.py:492: The name tf.ragged.RaggedTensorValue is deprecated. Please use tf.compat.v1.ragged.RaggedTensorValue instead.\n",
      "\n",
      "WARNING:tensorflow:From C:\\Users\\navee\\anaconda3\\Lib\\site-packages\\keras\\src\\engine\\base_layer_utils.py:384: The name tf.executing_eagerly_outside_functions is deprecated. Please use tf.compat.v1.executing_eagerly_outside_functions instead.\n",
      "\n",
      "3500/3500 [==============================] - 97s 27ms/step - loss: 1.7719e-04 - accuracy: 1.0000\n",
      "Epoch 2/5\n",
      "3500/3500 [==============================] - 94s 27ms/step - loss: 0.0000e+00 - accuracy: 1.0000\n",
      "Epoch 3/5\n",
      "3500/3500 [==============================] - 94s 27ms/step - loss: 0.0000e+00 - accuracy: 1.0000\n",
      "Epoch 4/5\n",
      "3500/3500 [==============================] - 94s 27ms/step - loss: 0.0000e+00 - accuracy: 1.0000\n",
      "Epoch 5/5\n",
      "3500/3500 [==============================] - 94s 27ms/step - loss: 0.0000e+00 - accuracy: 1.0000\n"
     ]
    },
    {
     "data": {
      "text/plain": [
       "<keras.src.callbacks.History at 0x277b6fad150>"
      ]
     },
     "execution_count": 20,
     "metadata": {},
     "output_type": "execute_result"
    }
   ],
   "source": [
    "model_ann=tf.keras.models.Sequential()\n",
    "model_ann.add(tf.keras.layers.Dense(units=1000,activation='relu'))\n",
    "model_ann.add(tf.keras.layers.Dense(units=1000,activation='relu'))\n",
    "model_ann.add(tf.keras.layers.Dense(units=1000,activation='relu'))\n",
    "model_ann.add(tf.keras.layers.Dense(units=1000,activation='relu'))\n",
    "model_ann.add(tf.keras.layers.Dense(units=1,activation='sigmoid'))\n",
    "model_ann.compile(optimizer='adam',loss='binary_crossentropy',metrics=['accuracy'])\n",
    "model_ann.fit(x_tr,y_tr,batch_size=10,epochs=5)"
   ]
  },
  {
   "cell_type": "code",
   "execution_count": 21,
   "id": "046b710b",
   "metadata": {},
   "outputs": [],
   "source": [
    "del x_tr,y_tr"
   ]
  },
  {
   "cell_type": "code",
   "execution_count": 22,
   "id": "99638596",
   "metadata": {},
   "outputs": [
    {
     "name": "stdout",
     "output_type": "stream",
     "text": [
      "469/469 [==============================] - 3s 7ms/step\n"
     ]
    }
   ],
   "source": [
    "y_pred=model_ann.predict(x_te)"
   ]
  },
  {
   "cell_type": "code",
   "execution_count": 23,
   "id": "a8265d9a",
   "metadata": {},
   "outputs": [
    {
     "data": {
      "text/plain": [
       "(15000, 1)"
      ]
     },
     "execution_count": 23,
     "metadata": {},
     "output_type": "execute_result"
    }
   ],
   "source": [
    "y_pred.shape"
   ]
  },
  {
   "cell_type": "code",
   "execution_count": 24,
   "id": "80f12691",
   "metadata": {},
   "outputs": [
    {
     "data": {
      "text/plain": [
       "(15000,)"
      ]
     },
     "execution_count": 24,
     "metadata": {},
     "output_type": "execute_result"
    }
   ],
   "source": [
    "y_te.shape"
   ]
  },
  {
   "cell_type": "code",
   "execution_count": 25,
   "id": "3931d638",
   "metadata": {},
   "outputs": [],
   "source": [
    "#a=y_pred.reshape(-1,1)"
   ]
  },
  {
   "cell_type": "code",
   "execution_count": 26,
   "id": "0835e73f",
   "metadata": {},
   "outputs": [
    {
     "data": {
      "text/plain": [
       "(15000, 1)"
      ]
     },
     "execution_count": 26,
     "metadata": {},
     "output_type": "execute_result"
    }
   ],
   "source": [
    "#a.shape"
   ]
  },
  {
   "cell_type": "code",
   "execution_count": 27,
   "id": "9ea72900",
   "metadata": {},
   "outputs": [
    {
     "data": {
      "text/plain": [
       "(15000, 1)"
      ]
     },
     "execution_count": 27,
     "metadata": {},
     "output_type": "execute_result"
    }
   ],
   "source": [
    "y_pred.shape"
   ]
  },
  {
   "cell_type": "code",
   "execution_count": 28,
   "id": "d2bdd70a",
   "metadata": {},
   "outputs": [
    {
     "data": {
      "text/plain": [
       "15000"
      ]
     },
     "execution_count": 28,
     "metadata": {},
     "output_type": "execute_result"
    }
   ],
   "source": [
    "len(y_pred)"
   ]
  },
  {
   "cell_type": "code",
   "execution_count": 29,
   "id": "bff4acc6",
   "metadata": {},
   "outputs": [],
   "source": [
    "y_pred=(y_pred>0.5).astype(int)"
   ]
  },
  {
   "cell_type": "code",
   "execution_count": 30,
   "id": "55d6cc91",
   "metadata": {},
   "outputs": [
    {
     "data": {
      "text/plain": [
       "array([0, 0, 0, ..., 0, 0, 0])"
      ]
     },
     "execution_count": 30,
     "metadata": {},
     "output_type": "execute_result"
    }
   ],
   "source": [
    "y_te"
   ]
  },
  {
   "cell_type": "code",
   "execution_count": 31,
   "id": "f111a98f",
   "metadata": {},
   "outputs": [
    {
     "data": {
      "text/plain": [
       "array([[0],\n",
       "       [0],\n",
       "       [0],\n",
       "       ...,\n",
       "       [0],\n",
       "       [0],\n",
       "       [0]])"
      ]
     },
     "execution_count": 31,
     "metadata": {},
     "output_type": "execute_result"
    }
   ],
   "source": [
    "y_pred"
   ]
  },
  {
   "cell_type": "code",
   "execution_count": 32,
   "id": "02ee1c36",
   "metadata": {},
   "outputs": [
    {
     "data": {
      "text/plain": [
       "(15000, 1)"
      ]
     },
     "execution_count": 32,
     "metadata": {},
     "output_type": "execute_result"
    }
   ],
   "source": [
    "y_pred.shape"
   ]
  },
  {
   "cell_type": "code",
   "execution_count": 33,
   "id": "133f2c49",
   "metadata": {},
   "outputs": [
    {
     "name": "stdout",
     "output_type": "stream",
     "text": [
      "Accuracy score is 100.0\n"
     ]
    }
   ],
   "source": [
    "print(\"Accuracy score is\",accuracy_score(y_te,y_pred)*100)"
   ]
  },
  {
   "cell_type": "code",
   "execution_count": null,
   "id": "5e69fe69",
   "metadata": {},
   "outputs": [],
   "source": []
  }
 ],
 "metadata": {
  "kernelspec": {
   "display_name": "Python 3 (ipykernel)",
   "language": "python",
   "name": "python3"
  },
  "language_info": {
   "codemirror_mode": {
    "name": "ipython",
    "version": 3
   },
   "file_extension": ".py",
   "mimetype": "text/x-python",
   "name": "python",
   "nbconvert_exporter": "python",
   "pygments_lexer": "ipython3",
   "version": "3.11.5"
  }
 },
 "nbformat": 4,
 "nbformat_minor": 5
}
